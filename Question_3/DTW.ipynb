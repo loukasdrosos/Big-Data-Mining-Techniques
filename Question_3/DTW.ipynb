{
 "cells": [
  {
   "cell_type": "code",
   "execution_count": 2,
   "id": "0e8d4235",
   "metadata": {},
   "outputs": [
    {
     "name": "stdout",
     "output_type": "stream",
     "text": [
      "Loading dataset from dtw_test.csv...\n",
      "Dataset loaded successfully.\n",
      "Starting DTW computations...\n",
      "Progress: 100.00%\n",
      "DTW computation completed.\n",
      "Results saved to dtw_results.csv.\n",
      "Total time taken: 1426.60 seconds\n"
     ]
    }
   ],
   "source": [
    "import numpy as np\n",
    "import pandas as pd\n",
    "import time\n",
    "import sys\n",
    "\n",
    "# DTW implementation using Euclidean distance\n",
    "def compute_dtw(seq_a, seq_b):\n",
    "    n, m = len(seq_a), len(seq_b)\n",
    "    dtw_matrix = np.full((n + 1, m + 1), np.inf)\n",
    "    dtw_matrix[0, 0] = 0\n",
    "    \n",
    "    for i in range(1, n + 1):\n",
    "        for j in range(1, m + 1):\n",
    "            cost = (seq_a[i - 1] - seq_b[j - 1]) ** 2  # Euclidean distance\n",
    "            dtw_matrix[i, j] = cost + min(\n",
    "                dtw_matrix[i - 1, j],    # Insertion\n",
    "                dtw_matrix[i, j - 1],    # Deletion\n",
    "                dtw_matrix[i - 1, j - 1] # Match\n",
    "            )\n",
    "    \n",
    "    return np.sqrt(dtw_matrix[n, m])\n",
    "\n",
    "# Load the dataset\n",
    "input_file = \"dtw_test.csv\"\n",
    "print(f\"Loading dataset from {input_file}...\")\n",
    "data = pd.read_csv(input_file)\n",
    "\n",
    "# Ensure column names are as expected\n",
    "if 'series_a' not in data.columns or 'series_b' not in data.columns:\n",
    "    raise KeyError(\"The required columns 'series_a' and 'series_b' are not found in the dataset.\")\n",
    "print(\"Dataset loaded successfully.\")\n",
    "\n",
    "results = []\n",
    "\n",
    "start_time = time.time()\n",
    "\n",
    "# Compute DTW distances\n",
    "print(\"Starting DTW computations...\")\n",
    "total_rows = len(data)\n",
    "for index, row in data.iterrows():\n",
    "    # Convert string to array\n",
    "    seq_a = np.array(eval(row['series_a']))\n",
    "    seq_b = np.array(eval(row['series_b']))  \n",
    "    dtw_distance = compute_dtw(seq_a, seq_b)\n",
    "    results.append({'id': row['id'], 'DTW distance': dtw_distance})\n",
    "\n",
    "    # Print progress as a percentage\n",
    "    percentage = ((index + 1) / total_rows) * 100\n",
    "    sys.stdout.write(f\"\\rProgress: {percentage:.2f}%\")\n",
    "    sys.stdout.flush()\n",
    "\n",
    "print()\n",
    "\n",
    "# Save results to  dtw.csv file\n",
    "output_file = \"dtw.csv\"\n",
    "results_df = pd.DataFrame(results)\n",
    "results_df.to_csv(output_file, index=False)\n",
    "\n",
    "end_time = time.time()\n",
    "\n",
    "print(f\"DTW computation completed.\")\n",
    "print(f\"Results saved to {output_file}.\")\n",
    "print(f\"Total time taken: {end_time - start_time:.2f} seconds\")\n"
   ]
  },
  {
   "cell_type": "code",
   "execution_count": null,
   "id": "9fa9b9a3",
   "metadata": {},
   "outputs": [],
   "source": []
  }
 ],
 "metadata": {
  "kernelspec": {
   "display_name": "Python 3 (ipykernel)",
   "language": "python",
   "name": "python3"
  },
  "language_info": {
   "codemirror_mode": {
    "name": "ipython",
    "version": 3
   },
   "file_extension": ".py",
   "mimetype": "text/x-python",
   "name": "python",
   "nbconvert_exporter": "python",
   "pygments_lexer": "ipython3",
   "version": "3.12.5"
  }
 },
 "nbformat": 4,
 "nbformat_minor": 5
}
